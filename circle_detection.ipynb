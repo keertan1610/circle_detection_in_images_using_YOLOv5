{
  "nbformat": 4,
  "nbformat_minor": 0,
  "metadata": {
    "colab": {
      "provenance": []
    },
    "kernelspec": {
      "name": "python3",
      "display_name": "Python 3"
    },
    "language_info": {
      "name": "python"
    }
  },
  "cells": [
    {
      "cell_type": "code",
      "execution_count": 1,
      "metadata": {
        "id": "GVV7M5Nmpgfv"
      },
      "outputs": [],
      "source": [
        "import cv2\n",
        "import numpy as np\n",
        "\n",
        "def create_circle_image(image_size=(256, 256), circle_count=5, min_radius=10, max_radius=50):\n",
        "    # Create a blank image with a random background color\n",
        "    background_color = np.random.randint(0, 256, size=(3,), dtype=np.uint8)\n",
        "    image = np.full((image_size[0], image_size[1], 3), background_color, dtype=np.uint8)\n",
        "\n",
        "    # List to store the circle coordinates and radii for annotation\n",
        "    circles = []\n",
        "\n",
        "    for _ in range(circle_count):\n",
        "        # Random center, radius, and color for each circle\n",
        "        center = (np.random.randint(0, image_size[1]), np.random.randint(0, image_size[0]))\n",
        "        radius = np.random.randint(min_radius, max_radius)\n",
        "        color = np.random.randint(0, 256, size=(3,), dtype=np.uint8).tolist()\n",
        "\n",
        "        # Draw the circle on the image\n",
        "        cv2.circle(image, center, radius, color, -1)  # -1 fill the circle\n",
        "\n",
        "        # Store the circle parameters for annotation (YOLO format: [class, x_center, y_center, width, height])\n",
        "        x_center = center[0] / image_size[1]\n",
        "        y_center = center[1] / image_size[0]\n",
        "        width = (2 * radius) / image_size[1]\n",
        "        height = (2 * radius) / image_size[0]\n",
        "        circles.append([0, x_center, y_center, width, height])\n",
        "\n",
        "    return image, circles\n"
      ]
    },
    {
      "cell_type": "code",
      "source": [
        "import os\n",
        "\n",
        "def generate_dataset(image_count=1000, image_size=(256, 256), save_dir='circle_dataset'):\n",
        "    os.makedirs(save_dir, exist_ok=True)\n",
        "    os.makedirs(f\"{save_dir}/images\", exist_ok=True)\n",
        "    os.makedirs(f\"{save_dir}/labels\", exist_ok=True)\n",
        "\n",
        "    for i in range(image_count):\n",
        "        if i % 2 == 0:  # Half of the images will contain circles\n",
        "            image, circles = create_circle_image(image_size=image_size, circle_count=np.random.randint(1, 6))\n",
        "        else:  # Half will be negative examples without circles\n",
        "            image = np.full((image_size[0], image_size[1], 3), np.random.randint(0, 256, size=(3,), dtype=np.uint8), dtype=np.uint8)\n",
        "            circles = []\n",
        "\n",
        "        # Save the image\n",
        "        image_path = f\"{save_dir}/images/image_{i:04d}.jpg\"\n",
        "        cv2.imwrite(image_path, image)\n",
        "\n",
        "        # Save the annotations in YOLO format\n",
        "        label_path = f\"{save_dir}/labels/image_{i:04d}.txt\"\n",
        "        with open(label_path, 'w') as f:\n",
        "            for circle in circles:\n",
        "                f.write(\" \".join(map(str, circle)) + \"\\n\")\n",
        "\n",
        "    print(f\"Dataset generated with {image_count} images in '{save_dir}'.\")\n",
        "\n",
        "# Generate the dataset\n",
        "generate_dataset(image_count=1000, image_size=(256, 256))\n"
      ],
      "metadata": {
        "colab": {
          "base_uri": "https://localhost:8080/"
        },
        "id": "q1ebEB4nqKuG",
        "outputId": "e20376d0-9ac3-4977-8bbd-6af7caa930a7"
      },
      "execution_count": 2,
      "outputs": [
        {
          "output_type": "stream",
          "name": "stdout",
          "text": [
            "Dataset generated with 1000 images in 'circle_dataset'.\n"
          ]
        }
      ]
    },
    {
      "cell_type": "code",
      "source": [
        "# Clone the YOLOv5 repository\n",
        "!git clone https://github.com/ultralytics/yolov5\n",
        "%cd yolov5\n",
        "\n",
        "# Install required dependencies\n",
        "!pip install -r requirements.txt\n"
      ],
      "metadata": {
        "colab": {
          "base_uri": "https://localhost:8080/"
        },
        "id": "QMtSj7hFq2OY",
        "outputId": "e8f21819-e619-4d62-92bb-1f9b3e7fe10b"
      },
      "execution_count": 1,
      "outputs": [
        {
          "output_type": "stream",
          "name": "stdout",
          "text": [
            "fatal: destination path 'yolov5' already exists and is not an empty directory.\n",
            "/content/yolov5\n",
            "Requirement already satisfied: gitpython>=3.1.30 in /usr/local/lib/python3.10/dist-packages (from -r requirements.txt (line 5)) (3.1.43)\n",
            "Requirement already satisfied: matplotlib>=3.3 in /usr/local/lib/python3.10/dist-packages (from -r requirements.txt (line 6)) (3.7.1)\n",
            "Requirement already satisfied: numpy>=1.23.5 in /usr/local/lib/python3.10/dist-packages (from -r requirements.txt (line 7)) (1.26.4)\n",
            "Requirement already satisfied: opencv-python>=4.1.1 in /usr/local/lib/python3.10/dist-packages (from -r requirements.txt (line 8)) (4.10.0.84)\n",
            "Requirement already satisfied: pillow>=10.3.0 in /usr/local/lib/python3.10/dist-packages (from -r requirements.txt (line 9)) (10.4.0)\n",
            "Requirement already satisfied: psutil in /usr/local/lib/python3.10/dist-packages (from -r requirements.txt (line 10)) (5.9.5)\n",
            "Requirement already satisfied: PyYAML>=5.3.1 in /usr/local/lib/python3.10/dist-packages (from -r requirements.txt (line 11)) (6.0.2)\n",
            "Requirement already satisfied: requests>=2.32.0 in /usr/local/lib/python3.10/dist-packages (from -r requirements.txt (line 12)) (2.32.3)\n",
            "Requirement already satisfied: scipy>=1.4.1 in /usr/local/lib/python3.10/dist-packages (from -r requirements.txt (line 13)) (1.13.1)\n",
            "Requirement already satisfied: thop>=0.1.1 in /usr/local/lib/python3.10/dist-packages (from -r requirements.txt (line 14)) (0.1.1.post2209072238)\n",
            "Requirement already satisfied: torch>=1.8.0 in /usr/local/lib/python3.10/dist-packages (from -r requirements.txt (line 15)) (2.3.1+cu121)\n",
            "Requirement already satisfied: torchvision>=0.9.0 in /usr/local/lib/python3.10/dist-packages (from -r requirements.txt (line 16)) (0.18.1+cu121)\n",
            "Requirement already satisfied: tqdm>=4.64.0 in /usr/local/lib/python3.10/dist-packages (from -r requirements.txt (line 17)) (4.66.5)\n",
            "Requirement already satisfied: ultralytics>=8.2.34 in /usr/local/lib/python3.10/dist-packages (from -r requirements.txt (line 18)) (8.2.75)\n",
            "Requirement already satisfied: pandas>=1.1.4 in /usr/local/lib/python3.10/dist-packages (from -r requirements.txt (line 27)) (2.1.4)\n",
            "Requirement already satisfied: seaborn>=0.11.0 in /usr/local/lib/python3.10/dist-packages (from -r requirements.txt (line 28)) (0.13.1)\n",
            "Requirement already satisfied: setuptools>=70.0.0 in /usr/local/lib/python3.10/dist-packages (from -r requirements.txt (line 42)) (71.0.4)\n",
            "Requirement already satisfied: gitdb<5,>=4.0.1 in /usr/local/lib/python3.10/dist-packages (from gitpython>=3.1.30->-r requirements.txt (line 5)) (4.0.11)\n",
            "Requirement already satisfied: contourpy>=1.0.1 in /usr/local/lib/python3.10/dist-packages (from matplotlib>=3.3->-r requirements.txt (line 6)) (1.2.1)\n",
            "Requirement already satisfied: cycler>=0.10 in /usr/local/lib/python3.10/dist-packages (from matplotlib>=3.3->-r requirements.txt (line 6)) (0.12.1)\n",
            "Requirement already satisfied: fonttools>=4.22.0 in /usr/local/lib/python3.10/dist-packages (from matplotlib>=3.3->-r requirements.txt (line 6)) (4.53.1)\n",
            "Requirement already satisfied: kiwisolver>=1.0.1 in /usr/local/lib/python3.10/dist-packages (from matplotlib>=3.3->-r requirements.txt (line 6)) (1.4.5)\n",
            "Requirement already satisfied: packaging>=20.0 in /usr/local/lib/python3.10/dist-packages (from matplotlib>=3.3->-r requirements.txt (line 6)) (24.1)\n",
            "Requirement already satisfied: pyparsing>=2.3.1 in /usr/local/lib/python3.10/dist-packages (from matplotlib>=3.3->-r requirements.txt (line 6)) (3.1.2)\n",
            "Requirement already satisfied: python-dateutil>=2.7 in /usr/local/lib/python3.10/dist-packages (from matplotlib>=3.3->-r requirements.txt (line 6)) (2.8.2)\n",
            "Requirement already satisfied: charset-normalizer<4,>=2 in /usr/local/lib/python3.10/dist-packages (from requests>=2.32.0->-r requirements.txt (line 12)) (3.3.2)\n",
            "Requirement already satisfied: idna<4,>=2.5 in /usr/local/lib/python3.10/dist-packages (from requests>=2.32.0->-r requirements.txt (line 12)) (3.7)\n",
            "Requirement already satisfied: urllib3<3,>=1.21.1 in /usr/local/lib/python3.10/dist-packages (from requests>=2.32.0->-r requirements.txt (line 12)) (2.0.7)\n",
            "Requirement already satisfied: certifi>=2017.4.17 in /usr/local/lib/python3.10/dist-packages (from requests>=2.32.0->-r requirements.txt (line 12)) (2024.7.4)\n",
            "Requirement already satisfied: filelock in /usr/local/lib/python3.10/dist-packages (from torch>=1.8.0->-r requirements.txt (line 15)) (3.15.4)\n",
            "Requirement already satisfied: typing-extensions>=4.8.0 in /usr/local/lib/python3.10/dist-packages (from torch>=1.8.0->-r requirements.txt (line 15)) (4.12.2)\n",
            "Requirement already satisfied: sympy in /usr/local/lib/python3.10/dist-packages (from torch>=1.8.0->-r requirements.txt (line 15)) (1.13.1)\n",
            "Requirement already satisfied: networkx in /usr/local/lib/python3.10/dist-packages (from torch>=1.8.0->-r requirements.txt (line 15)) (3.3)\n",
            "Requirement already satisfied: jinja2 in /usr/local/lib/python3.10/dist-packages (from torch>=1.8.0->-r requirements.txt (line 15)) (3.1.4)\n",
            "Requirement already satisfied: fsspec in /usr/local/lib/python3.10/dist-packages (from torch>=1.8.0->-r requirements.txt (line 15)) (2024.6.1)\n",
            "Requirement already satisfied: nvidia-cuda-nvrtc-cu12==12.1.105 in /usr/local/lib/python3.10/dist-packages (from torch>=1.8.0->-r requirements.txt (line 15)) (12.1.105)\n",
            "Requirement already satisfied: nvidia-cuda-runtime-cu12==12.1.105 in /usr/local/lib/python3.10/dist-packages (from torch>=1.8.0->-r requirements.txt (line 15)) (12.1.105)\n",
            "Requirement already satisfied: nvidia-cuda-cupti-cu12==12.1.105 in /usr/local/lib/python3.10/dist-packages (from torch>=1.8.0->-r requirements.txt (line 15)) (12.1.105)\n",
            "Requirement already satisfied: nvidia-cudnn-cu12==8.9.2.26 in /usr/local/lib/python3.10/dist-packages (from torch>=1.8.0->-r requirements.txt (line 15)) (8.9.2.26)\n",
            "Requirement already satisfied: nvidia-cublas-cu12==12.1.3.1 in /usr/local/lib/python3.10/dist-packages (from torch>=1.8.0->-r requirements.txt (line 15)) (12.1.3.1)\n",
            "Requirement already satisfied: nvidia-cufft-cu12==11.0.2.54 in /usr/local/lib/python3.10/dist-packages (from torch>=1.8.0->-r requirements.txt (line 15)) (11.0.2.54)\n",
            "Requirement already satisfied: nvidia-curand-cu12==10.3.2.106 in /usr/local/lib/python3.10/dist-packages (from torch>=1.8.0->-r requirements.txt (line 15)) (10.3.2.106)\n",
            "Requirement already satisfied: nvidia-cusolver-cu12==11.4.5.107 in /usr/local/lib/python3.10/dist-packages (from torch>=1.8.0->-r requirements.txt (line 15)) (11.4.5.107)\n",
            "Requirement already satisfied: nvidia-cusparse-cu12==12.1.0.106 in /usr/local/lib/python3.10/dist-packages (from torch>=1.8.0->-r requirements.txt (line 15)) (12.1.0.106)\n",
            "Requirement already satisfied: nvidia-nccl-cu12==2.20.5 in /usr/local/lib/python3.10/dist-packages (from torch>=1.8.0->-r requirements.txt (line 15)) (2.20.5)\n",
            "Requirement already satisfied: nvidia-nvtx-cu12==12.1.105 in /usr/local/lib/python3.10/dist-packages (from torch>=1.8.0->-r requirements.txt (line 15)) (12.1.105)\n",
            "Requirement already satisfied: triton==2.3.1 in /usr/local/lib/python3.10/dist-packages (from torch>=1.8.0->-r requirements.txt (line 15)) (2.3.1)\n",
            "Requirement already satisfied: nvidia-nvjitlink-cu12 in /usr/local/lib/python3.10/dist-packages (from nvidia-cusolver-cu12==11.4.5.107->torch>=1.8.0->-r requirements.txt (line 15)) (12.6.20)\n",
            "Requirement already satisfied: py-cpuinfo in /usr/local/lib/python3.10/dist-packages (from ultralytics>=8.2.34->-r requirements.txt (line 18)) (9.0.0)\n",
            "Requirement already satisfied: ultralytics-thop>=2.0.0 in /usr/local/lib/python3.10/dist-packages (from ultralytics>=8.2.34->-r requirements.txt (line 18)) (2.0.0)\n",
            "Requirement already satisfied: pytz>=2020.1 in /usr/local/lib/python3.10/dist-packages (from pandas>=1.1.4->-r requirements.txt (line 27)) (2024.1)\n",
            "Requirement already satisfied: tzdata>=2022.1 in /usr/local/lib/python3.10/dist-packages (from pandas>=1.1.4->-r requirements.txt (line 27)) (2024.1)\n",
            "Requirement already satisfied: smmap<6,>=3.0.1 in /usr/local/lib/python3.10/dist-packages (from gitdb<5,>=4.0.1->gitpython>=3.1.30->-r requirements.txt (line 5)) (5.0.1)\n",
            "Requirement already satisfied: six>=1.5 in /usr/local/lib/python3.10/dist-packages (from python-dateutil>=2.7->matplotlib>=3.3->-r requirements.txt (line 6)) (1.16.0)\n",
            "Requirement already satisfied: MarkupSafe>=2.0 in /usr/local/lib/python3.10/dist-packages (from jinja2->torch>=1.8.0->-r requirements.txt (line 15)) (2.1.5)\n",
            "Requirement already satisfied: mpmath<1.4,>=1.1.0 in /usr/local/lib/python3.10/dist-packages (from sympy->torch>=1.8.0->-r requirements.txt (line 15)) (1.3.0)\n"
          ]
        }
      ]
    },
    {
      "cell_type": "code",
      "source": [
        "import os\n",
        "import shutil\n",
        "from sklearn.model_selection import train_test_split\n",
        "\n",
        "def prepare_yolo_dataset(original_dataset_dir='/content/circle_dataset', yolo_dataset_dir='yolo_circle_dataset', val_split=0.2):\n",
        "    # Create the YOLO dataset structure\n",
        "    os.makedirs(f'{yolo_dataset_dir}/images/train', exist_ok=True)\n",
        "    os.makedirs(f'{yolo_dataset_dir}/images/val', exist_ok=True)\n",
        "    os.makedirs(f'{yolo_dataset_dir}/labels/train', exist_ok=True)\n",
        "    os.makedirs(f'{yolo_dataset_dir}/labels/val', exist_ok=True)\n",
        "\n",
        "    # Get a list of images and split them into training and validation sets\n",
        "    images = os.listdir(f'{original_dataset_dir}/images')\n",
        "    train_images, val_images = train_test_split(images, test_size=val_split)\n",
        "\n",
        "    def move_files(image_list, subset):\n",
        "        for image in image_list:\n",
        "            # Move image\n",
        "            shutil.move(f'{original_dataset_dir}/images/{image}', f'{yolo_dataset_dir}/images/{subset}/{image}')\n",
        "            # Move corresponding label\n",
        "            label = image.replace('.jpg', '.txt')\n",
        "            shutil.move(f'{original_dataset_dir}/labels/{label}', f'{yolo_dataset_dir}/labels/{subset}/{label}')\n",
        "\n",
        "    # Move the files to the respective directories\n",
        "    move_files(train_images, 'train')\n",
        "    move_files(val_images, 'val')\n",
        "\n",
        "    print(f\"Dataset prepared for YOLO with {len(train_images)} training images and {len(val_images)} validation images.\")\n",
        "\n",
        "# Prepare the YOLO dataset\n",
        "prepare_yolo_dataset()\n"
      ],
      "metadata": {
        "colab": {
          "base_uri": "https://localhost:8080/"
        },
        "id": "74Y-Ltj5rtUc",
        "outputId": "29c28b8a-ac3d-4774-a712-933ed6082ff1"
      },
      "execution_count": 3,
      "outputs": [
        {
          "output_type": "stream",
          "name": "stdout",
          "text": [
            "Dataset prepared for YOLO with 800 training images and 200 validation images.\n"
          ]
        }
      ]
    },
    {
      "cell_type": "code",
      "source": [
        "train = \"../yolo_circle_dataset/images/train\"\n",
        "val = \"../yolo_circle_dataset/images/val\"\n",
        "nc: 1  # number of classes (only circles in this case)\n",
        "names: ['circle']  # class names\n"
      ],
      "metadata": {
        "id": "cHG4GuejsBUz"
      },
      "execution_count": 8,
      "outputs": []
    },
    {
      "cell_type": "code",
      "source": [
        "!ls /content/yolov5/\n"
      ],
      "metadata": {
        "colab": {
          "base_uri": "https://localhost:8080/"
        },
        "id": "VJ92PofgvI_N",
        "outputId": "c9a35442-6fe7-4c41-b09f-35bb172e8b81"
      },
      "execution_count": 10,
      "outputs": [
        {
          "output_type": "stream",
          "name": "stdout",
          "text": [
            "benchmarks.py\t data\t     LICENSE\t     README.md\t       train.py        yolo_circle_dataset\n",
            "CITATION.cff\t detect.py   models\t     README.zh-CN.md   tutorial.ipynb\n",
            "classify\t export.py   __pycache__     requirements.txt  utils\n",
            "CONTRIBUTING.md  hubconf.py  pyproject.toml  segment\t       val.py\n"
          ]
        }
      ]
    },
    {
      "cell_type": "code",
      "source": [
        "data_yaml_content = \"\"\"\n",
        "train: ../yolo_circle_dataset/images/train\n",
        "val: ../yolo_circle_dataset/images/val\n",
        "\n",
        "nc: 1  # number of classes (only circles in this case)\n",
        "names: ['circle']  # class names\n",
        "\"\"\"\n",
        "\n",
        "with open('/content/yolov5/data.yaml', 'w') as f:\n",
        "    f.write(data_yaml_content)\n"
      ],
      "metadata": {
        "id": "tiGBwCePvPJm"
      },
      "execution_count": 11,
      "outputs": []
    },
    {
      "cell_type": "code",
      "source": [
        "!python train.py --img 256 --batch 16 --epochs 30 --data data.yaml --cfg models/yolov5s.yaml --weights yolov5s.pt --name circle_detection\n"
      ],
      "metadata": {
        "colab": {
          "base_uri": "https://localhost:8080/"
        },
        "id": "QuAdNDjIvXR_",
        "outputId": "f4adef2b-4402-414d-c99b-48216c11a933"
      },
      "execution_count": 12,
      "outputs": [
        {
          "output_type": "stream",
          "name": "stdout",
          "text": [
            "2024-08-10 14:42:37.702902: E external/local_xla/xla/stream_executor/cuda/cuda_fft.cc:485] Unable to register cuFFT factory: Attempting to register factory for plugin cuFFT when one has already been registered\n",
            "2024-08-10 14:42:37.723394: E external/local_xla/xla/stream_executor/cuda/cuda_dnn.cc:8454] Unable to register cuDNN factory: Attempting to register factory for plugin cuDNN when one has already been registered\n",
            "2024-08-10 14:42:37.729763: E external/local_xla/xla/stream_executor/cuda/cuda_blas.cc:1452] Unable to register cuBLAS factory: Attempting to register factory for plugin cuBLAS when one has already been registered\n",
            "\u001b[34m\u001b[1mtrain: \u001b[0mweights=yolov5s.pt, cfg=models/yolov5s.yaml, data=data.yaml, hyp=data/hyps/hyp.scratch-low.yaml, epochs=30, batch_size=16, imgsz=256, rect=False, resume=False, nosave=False, noval=False, noautoanchor=False, noplots=False, evolve=None, evolve_population=data/hyps, resume_evolve=None, bucket=, cache=None, image_weights=False, device=, multi_scale=False, single_cls=False, optimizer=SGD, sync_bn=False, workers=8, project=runs/train, name=circle_detection, exist_ok=False, quad=False, cos_lr=False, label_smoothing=0.0, patience=100, freeze=[0], save_period=-1, seed=0, local_rank=-1, entity=None, upload_dataset=False, bbox_interval=-1, artifact_alias=latest, ndjson_console=False, ndjson_file=False\n",
            "\u001b[34m\u001b[1mgithub: \u001b[0mup to date with https://github.com/ultralytics/yolov5 ✅\n",
            "YOLOv5 🚀 v7.0-350-g6096750f Python-3.10.12 torch-2.3.1+cu121 CUDA:0 (Tesla T4, 15102MiB)\n",
            "\n",
            "\u001b[34m\u001b[1mhyperparameters: \u001b[0mlr0=0.01, lrf=0.01, momentum=0.937, weight_decay=0.0005, warmup_epochs=3.0, warmup_momentum=0.8, warmup_bias_lr=0.1, box=0.05, cls=0.5, cls_pw=1.0, obj=1.0, obj_pw=1.0, iou_t=0.2, anchor_t=4.0, fl_gamma=0.0, hsv_h=0.015, hsv_s=0.7, hsv_v=0.4, degrees=0.0, translate=0.1, scale=0.5, shear=0.0, perspective=0.0, flipud=0.0, fliplr=0.5, mosaic=1.0, mixup=0.0, copy_paste=0.0\n",
            "\u001b[34m\u001b[1mComet: \u001b[0mrun 'pip install comet_ml' to automatically track and visualize YOLOv5 🚀 runs in Comet\n",
            "\u001b[34m\u001b[1mTensorBoard: \u001b[0mStart with 'tensorboard --logdir runs/train', view at http://localhost:6006/\n",
            "Downloading https://github.com/ultralytics/assets/releases/download/v0.0.0/Arial.ttf to /root/.config/Ultralytics/Arial.ttf...\n",
            "100% 755k/755k [00:00<00:00, 38.2MB/s]\n",
            "Downloading https://github.com/ultralytics/yolov5/releases/download/v7.0/yolov5s.pt to yolov5s.pt...\n",
            "100% 14.1M/14.1M [00:00<00:00, 266MB/s]\n",
            "\n",
            "Overriding model.yaml nc=80 with nc=1\n",
            "\n",
            "                 from  n    params  module                                  arguments                     \n",
            "  0                -1  1      3520  models.common.Conv                      [3, 32, 6, 2, 2]              \n",
            "  1                -1  1     18560  models.common.Conv                      [32, 64, 3, 2]                \n",
            "  2                -1  1     18816  models.common.C3                        [64, 64, 1]                   \n",
            "  3                -1  1     73984  models.common.Conv                      [64, 128, 3, 2]               \n",
            "  4                -1  2    115712  models.common.C3                        [128, 128, 2]                 \n",
            "  5                -1  1    295424  models.common.Conv                      [128, 256, 3, 2]              \n",
            "  6                -1  3    625152  models.common.C3                        [256, 256, 3]                 \n",
            "  7                -1  1   1180672  models.common.Conv                      [256, 512, 3, 2]              \n",
            "  8                -1  1   1182720  models.common.C3                        [512, 512, 1]                 \n",
            "  9                -1  1    656896  models.common.SPPF                      [512, 512, 5]                 \n",
            " 10                -1  1    131584  models.common.Conv                      [512, 256, 1, 1]              \n",
            " 11                -1  1         0  torch.nn.modules.upsampling.Upsample    [None, 2, 'nearest']          \n",
            " 12           [-1, 6]  1         0  models.common.Concat                    [1]                           \n",
            " 13                -1  1    361984  models.common.C3                        [512, 256, 1, False]          \n",
            " 14                -1  1     33024  models.common.Conv                      [256, 128, 1, 1]              \n",
            " 15                -1  1         0  torch.nn.modules.upsampling.Upsample    [None, 2, 'nearest']          \n",
            " 16           [-1, 4]  1         0  models.common.Concat                    [1]                           \n",
            " 17                -1  1     90880  models.common.C3                        [256, 128, 1, False]          \n",
            " 18                -1  1    147712  models.common.Conv                      [128, 128, 3, 2]              \n",
            " 19          [-1, 14]  1         0  models.common.Concat                    [1]                           \n",
            " 20                -1  1    296448  models.common.C3                        [256, 256, 1, False]          \n",
            " 21                -1  1    590336  models.common.Conv                      [256, 256, 3, 2]              \n",
            " 22          [-1, 10]  1         0  models.common.Concat                    [1]                           \n",
            " 23                -1  1   1182720  models.common.C3                        [512, 512, 1, False]          \n",
            " 24      [17, 20, 23]  1     16182  models.yolo.Detect                      [1, [[10, 13, 16, 30, 33, 23], [30, 61, 62, 45, 59, 119], [116, 90, 156, 198, 373, 326]], [128, 256, 512]]\n",
            "YOLOv5s summary: 214 layers, 7022326 parameters, 7022326 gradients, 15.9 GFLOPs\n",
            "\n",
            "Transferred 342/349 items from yolov5s.pt\n",
            "\u001b[34m\u001b[1mAMP: \u001b[0mchecks passed ✅\n",
            "\u001b[34m\u001b[1moptimizer:\u001b[0m SGD(lr=0.01) with parameter groups 57 weight(decay=0.0), 60 weight(decay=0.0005), 60 bias\n",
            "\u001b[34m\u001b[1malbumentations: \u001b[0mBlur(p=0.01, blur_limit=(3, 7)), MedianBlur(p=0.01, blur_limit=(3, 7)), ToGray(p=0.01), CLAHE(p=0.01, clip_limit=(1, 4.0), tile_grid_size=(8, 8))\n",
            "/usr/lib/python3.10/multiprocessing/popen_fork.py:66: RuntimeWarning: os.fork() was called. os.fork() is incompatible with multithreaded code, and JAX is multithreaded, so this will likely lead to a deadlock.\n",
            "  self.pid = os.fork()\n",
            "\u001b[34m\u001b[1mtrain: \u001b[0mScanning /content/yolov5/yolo_circle_dataset/labels/train... 800 images, 389 backgrounds, 0 corrupt: 100% 800/800 [00:00<00:00, 1533.13it/s]\n",
            "\u001b[34m\u001b[1mtrain: \u001b[0mNew cache created: /content/yolov5/yolo_circle_dataset/labels/train.cache\n",
            "\u001b[34m\u001b[1mval: \u001b[0mScanning /content/yolov5/yolo_circle_dataset/labels/val... 200 images, 111 backgrounds, 0 corrupt: 100% 200/200 [00:00<00:00, 558.84it/s]\n",
            "\u001b[34m\u001b[1mval: \u001b[0mNew cache created: /content/yolov5/yolo_circle_dataset/labels/val.cache\n",
            "\n",
            "\u001b[34m\u001b[1mAutoAnchor: \u001b[0m6.15 anchors/target, 1.000 Best Possible Recall (BPR). Current anchors are a good fit to dataset ✅\n",
            "Plotting labels to runs/train/circle_detection/labels.jpg... \n",
            "Image sizes 256 train, 256 val\n",
            "Using 2 dataloader workers\n",
            "Logging results to \u001b[1mruns/train/circle_detection\u001b[0m\n",
            "Starting training for 30 epochs...\n",
            "\n",
            "      Epoch    GPU_mem   box_loss   obj_loss   cls_loss  Instances       Size\n",
            "       0/29     0.801G     0.1046    0.01648          0         41        256: 100% 50/50 [00:12<00:00,  4.11it/s]\n",
            "                 Class     Images  Instances          P          R      mAP50   mAP50-95: 100% 7/7 [00:02<00:00,  2.89it/s]\n",
            "                   all        200        281      0.394      0.555      0.393      0.142\n",
            "\n",
            "      Epoch    GPU_mem   box_loss   obj_loss   cls_loss  Instances       Size\n",
            "       1/29     0.801G    0.07205    0.01825          0         24        256: 100% 50/50 [00:06<00:00,  7.17it/s]\n",
            "                 Class     Images  Instances          P          R      mAP50   mAP50-95: 100% 7/7 [00:01<00:00,  4.11it/s]\n",
            "                   all        200        281      0.415      0.616      0.481      0.119\n",
            "\n",
            "      Epoch    GPU_mem   box_loss   obj_loss   cls_loss  Instances       Size\n",
            "       2/29     0.801G    0.06419    0.01736          0         37        256: 100% 50/50 [00:06<00:00,  7.81it/s]\n",
            "                 Class     Images  Instances          P          R      mAP50   mAP50-95: 100% 7/7 [00:01<00:00,  6.20it/s]\n",
            "                   all        200        281      0.698      0.766      0.807      0.288\n",
            "\n",
            "      Epoch    GPU_mem   box_loss   obj_loss   cls_loss  Instances       Size\n",
            "       3/29     0.803G    0.05529    0.01519          0         35        256: 100% 50/50 [00:06<00:00,  7.94it/s]\n",
            "                 Class     Images  Instances          P          R      mAP50   mAP50-95: 100% 7/7 [00:01<00:00,  4.39it/s]\n",
            "                   all        200        281      0.906      0.886      0.939      0.469\n",
            "\n",
            "      Epoch    GPU_mem   box_loss   obj_loss   cls_loss  Instances       Size\n",
            "       4/29     0.803G    0.04799    0.01334          0         58        256: 100% 50/50 [00:06<00:00,  7.76it/s]\n",
            "                 Class     Images  Instances          P          R      mAP50   mAP50-95: 100% 7/7 [00:01<00:00,  6.36it/s]\n",
            "                   all        200        281      0.809      0.904      0.917      0.455\n",
            "\n",
            "      Epoch    GPU_mem   box_loss   obj_loss   cls_loss  Instances       Size\n",
            "       5/29     0.805G    0.04396    0.01158          0         31        256: 100% 50/50 [00:05<00:00,  8.43it/s]\n",
            "                 Class     Images  Instances          P          R      mAP50   mAP50-95: 100% 7/7 [00:01<00:00,  4.20it/s]\n",
            "                   all        200        281      0.938       0.91      0.957      0.646\n",
            "\n",
            "      Epoch    GPU_mem   box_loss   obj_loss   cls_loss  Instances       Size\n",
            "       6/29     0.805G    0.03958    0.01119          0         39        256: 100% 50/50 [00:06<00:00,  7.80it/s]\n",
            "                 Class     Images  Instances          P          R      mAP50   mAP50-95: 100% 7/7 [00:01<00:00,  6.50it/s]\n",
            "                   all        200        281      0.985      0.935      0.982      0.631\n",
            "\n",
            "      Epoch    GPU_mem   box_loss   obj_loss   cls_loss  Instances       Size\n",
            "       7/29     0.805G    0.03809    0.01024          0         19        256: 100% 50/50 [00:05<00:00,  8.71it/s]\n",
            "                 Class     Images  Instances          P          R      mAP50   mAP50-95: 100% 7/7 [00:01<00:00,  4.59it/s]\n",
            "                   all        200        281      0.982       0.96      0.988      0.667\n",
            "\n",
            "      Epoch    GPU_mem   box_loss   obj_loss   cls_loss  Instances       Size\n",
            "       8/29     0.805G     0.0348   0.009601          0         26        256: 100% 50/50 [00:07<00:00,  6.94it/s]\n",
            "                 Class     Images  Instances          P          R      mAP50   mAP50-95: 100% 7/7 [00:01<00:00,  6.43it/s]\n",
            "                   all        200        281      0.974      0.968      0.984       0.72\n",
            "\n",
            "      Epoch    GPU_mem   box_loss   obj_loss   cls_loss  Instances       Size\n",
            "       9/29     0.805G    0.03284   0.009408          0         42        256: 100% 50/50 [00:05<00:00,  9.17it/s]\n",
            "                 Class     Images  Instances          P          R      mAP50   mAP50-95: 100% 7/7 [00:01<00:00,  4.60it/s]\n",
            "                   all        200        281       0.99      0.957      0.992      0.812\n",
            "\n",
            "      Epoch    GPU_mem   box_loss   obj_loss   cls_loss  Instances       Size\n",
            "      10/29     0.805G    0.03208   0.009119          0         41        256: 100% 50/50 [00:07<00:00,  6.64it/s]\n",
            "                 Class     Images  Instances          P          R      mAP50   mAP50-95: 100% 7/7 [00:01<00:00,  6.44it/s]\n",
            "                   all        200        281      0.995      0.968      0.986      0.812\n",
            "\n",
            "      Epoch    GPU_mem   box_loss   obj_loss   cls_loss  Instances       Size\n",
            "      11/29     0.805G    0.02975   0.008539          0         47        256: 100% 50/50 [00:05<00:00,  9.41it/s]\n",
            "                 Class     Images  Instances          P          R      mAP50   mAP50-95: 100% 7/7 [00:01<00:00,  4.67it/s]\n",
            "                   all        200        281      0.994      0.968      0.987      0.755\n",
            "\n",
            "      Epoch    GPU_mem   box_loss   obj_loss   cls_loss  Instances       Size\n",
            "      12/29     0.805G    0.02866   0.008563          0         34        256: 100% 50/50 [00:07<00:00,  6.52it/s]\n",
            "                 Class     Images  Instances          P          R      mAP50   mAP50-95: 100% 7/7 [00:01<00:00,  6.49it/s]\n",
            "                   all        200        281      0.996      0.964      0.985      0.793\n",
            "\n",
            "      Epoch    GPU_mem   box_loss   obj_loss   cls_loss  Instances       Size\n",
            "      13/29     0.805G    0.02796   0.008273          0         26        256: 100% 50/50 [00:05<00:00,  9.11it/s]\n",
            "                 Class     Images  Instances          P          R      mAP50   mAP50-95: 100% 7/7 [00:01<00:00,  5.45it/s]\n",
            "                   all        200        281      0.998      0.972      0.993      0.822\n",
            "\n",
            "      Epoch    GPU_mem   box_loss   obj_loss   cls_loss  Instances       Size\n",
            "      14/29     0.805G    0.02684   0.008299          0         32        256: 100% 50/50 [00:07<00:00,  6.55it/s]\n",
            "                 Class     Images  Instances          P          R      mAP50   mAP50-95: 100% 7/7 [00:01<00:00,  6.46it/s]\n",
            "                   all        200        281      0.998      0.972      0.992      0.828\n",
            "\n",
            "      Epoch    GPU_mem   box_loss   obj_loss   cls_loss  Instances       Size\n",
            "      15/29     0.805G    0.02582   0.007888          0         27        256: 100% 50/50 [00:05<00:00,  9.39it/s]\n",
            "                 Class     Images  Instances          P          R      mAP50   mAP50-95: 100% 7/7 [00:01<00:00,  5.17it/s]\n",
            "                   all        200        281      0.999      0.972      0.992      0.853\n",
            "\n",
            "      Epoch    GPU_mem   box_loss   obj_loss   cls_loss  Instances       Size\n",
            "      16/29     0.805G     0.0249   0.007781          0         27        256: 100% 50/50 [00:08<00:00,  6.20it/s]\n",
            "                 Class     Images  Instances          P          R      mAP50   mAP50-95: 100% 7/7 [00:01<00:00,  6.46it/s]\n",
            "                   all        200        281      0.996      0.969      0.994      0.858\n",
            "\n",
            "      Epoch    GPU_mem   box_loss   obj_loss   cls_loss  Instances       Size\n",
            "      17/29     0.805G    0.02391   0.008089          0         48        256: 100% 50/50 [00:05<00:00,  9.07it/s]\n",
            "                 Class     Images  Instances          P          R      mAP50   mAP50-95: 100% 7/7 [00:01<00:00,  5.57it/s]\n",
            "                   all        200        281      0.996      0.968      0.994      0.881\n",
            "\n",
            "      Epoch    GPU_mem   box_loss   obj_loss   cls_loss  Instances       Size\n",
            "      18/29     0.805G    0.02336   0.007335          0         24        256: 100% 50/50 [00:08<00:00,  6.12it/s]\n",
            "                 Class     Images  Instances          P          R      mAP50   mAP50-95: 100% 7/7 [00:01<00:00,  6.46it/s]\n",
            "                   all        200        281      0.998      0.972      0.994       0.85\n",
            "\n",
            "      Epoch    GPU_mem   box_loss   obj_loss   cls_loss  Instances       Size\n",
            "      19/29     0.805G    0.02149      0.007          0         32        256: 100% 50/50 [00:05<00:00,  9.36it/s]\n",
            "                 Class     Images  Instances          P          R      mAP50   mAP50-95: 100% 7/7 [00:01<00:00,  6.40it/s]\n",
            "                   all        200        281      0.998      0.972      0.992       0.88\n",
            "\n",
            "      Epoch    GPU_mem   box_loss   obj_loss   cls_loss  Instances       Size\n",
            "      20/29     0.805G    0.02199   0.007263          0         27        256: 100% 50/50 [00:08<00:00,  5.72it/s]\n",
            "                 Class     Images  Instances          P          R      mAP50   mAP50-95: 100% 7/7 [00:01<00:00,  6.23it/s]\n",
            "                   all        200        281      0.989      0.977      0.994      0.907\n",
            "\n",
            "      Epoch    GPU_mem   box_loss   obj_loss   cls_loss  Instances       Size\n",
            "      21/29     0.805G    0.02081    0.00707          0         57        256: 100% 50/50 [00:05<00:00,  9.20it/s]\n",
            "                 Class     Images  Instances          P          R      mAP50   mAP50-95: 100% 7/7 [00:01<00:00,  6.29it/s]\n",
            "                   all        200        281          1       0.97      0.994      0.883\n",
            "\n",
            "      Epoch    GPU_mem   box_loss   obj_loss   cls_loss  Instances       Size\n",
            "      22/29     0.805G    0.01968   0.006701          0         31        256: 100% 50/50 [00:08<00:00,  5.71it/s]\n",
            "                 Class     Images  Instances          P          R      mAP50   mAP50-95: 100% 7/7 [00:01<00:00,  6.43it/s]\n",
            "                   all        200        281      0.992      0.975      0.994      0.888\n",
            "\n",
            "      Epoch    GPU_mem   box_loss   obj_loss   cls_loss  Instances       Size\n",
            "      23/29     0.805G    0.01927   0.006647          0         26        256: 100% 50/50 [00:05<00:00,  9.20it/s]\n",
            "                 Class     Images  Instances          P          R      mAP50   mAP50-95: 100% 7/7 [00:01<00:00,  6.40it/s]\n",
            "                   all        200        281      0.993      0.985      0.994      0.903\n",
            "\n",
            "      Epoch    GPU_mem   box_loss   obj_loss   cls_loss  Instances       Size\n",
            "      24/29     0.805G    0.01874   0.006934          0         40        256: 100% 50/50 [00:08<00:00,  5.80it/s]\n",
            "                 Class     Images  Instances          P          R      mAP50   mAP50-95: 100% 7/7 [00:01<00:00,  5.88it/s]\n",
            "                   all        200        281      0.988      0.986      0.995        0.9\n",
            "\n",
            "      Epoch    GPU_mem   box_loss   obj_loss   cls_loss  Instances       Size\n",
            "      25/29     0.805G     0.0182   0.006328          0         35        256: 100% 50/50 [00:05<00:00,  9.29it/s]\n",
            "                 Class     Images  Instances          P          R      mAP50   mAP50-95: 100% 7/7 [00:01<00:00,  6.37it/s]\n",
            "                   all        200        281      0.998      0.972      0.994       0.91\n",
            "\n",
            "      Epoch    GPU_mem   box_loss   obj_loss   cls_loss  Instances       Size\n",
            "      26/29     0.805G    0.01747    0.00651          0         41        256: 100% 50/50 [00:08<00:00,  6.17it/s]\n",
            "                 Class     Images  Instances          P          R      mAP50   mAP50-95: 100% 7/7 [00:01<00:00,  5.08it/s]\n",
            "                   all        200        281      0.993      0.982      0.995      0.919\n",
            "\n",
            "      Epoch    GPU_mem   box_loss   obj_loss   cls_loss  Instances       Size\n",
            "      27/29     0.805G    0.01755   0.006702          0         22        256: 100% 50/50 [00:05<00:00,  9.09it/s]\n",
            "                 Class     Images  Instances          P          R      mAP50   mAP50-95: 100% 7/7 [00:01<00:00,  6.03it/s]\n",
            "                   all        200        281      0.985      0.986      0.994      0.941\n",
            "\n",
            "      Epoch    GPU_mem   box_loss   obj_loss   cls_loss  Instances       Size\n",
            "      28/29     0.805G    0.01593   0.006221          0         50        256: 100% 50/50 [00:08<00:00,  5.99it/s]\n",
            "                 Class     Images  Instances          P          R      mAP50   mAP50-95: 100% 7/7 [00:01<00:00,  5.15it/s]\n",
            "                   all        200        281      0.989      0.984      0.993      0.941\n",
            "\n",
            "      Epoch    GPU_mem   box_loss   obj_loss   cls_loss  Instances       Size\n",
            "      29/29     0.805G    0.01572   0.006137          0         40        256: 100% 50/50 [00:05<00:00,  9.29it/s]\n",
            "                 Class     Images  Instances          P          R      mAP50   mAP50-95: 100% 7/7 [00:01<00:00,  6.43it/s]\n",
            "                   all        200        281      0.985      0.986      0.994       0.95\n",
            "\n",
            "30 epochs completed in 0.072 hours.\n",
            "Optimizer stripped from runs/train/circle_detection/weights/last.pt, 14.3MB\n",
            "Optimizer stripped from runs/train/circle_detection/weights/best.pt, 14.3MB\n",
            "\n",
            "Validating runs/train/circle_detection/weights/best.pt...\n",
            "Fusing layers... \n",
            "YOLOv5s summary: 157 layers, 7012822 parameters, 0 gradients, 15.8 GFLOPs\n",
            "                 Class     Images  Instances          P          R      mAP50   mAP50-95: 100% 7/7 [00:02<00:00,  3.48it/s]\n",
            "                   all        200        281      0.985      0.986      0.994      0.951\n",
            "Results saved to \u001b[1mruns/train/circle_detection\u001b[0m\n"
          ]
        }
      ]
    },
    {
      "cell_type": "code",
      "source": [
        "# Evaluate the model\n",
        "!python val.py --weights runs/train/circle_detection/weights/best.pt --data data.yaml --img 256\n"
      ],
      "metadata": {
        "colab": {
          "base_uri": "https://localhost:8080/"
        },
        "id": "zWI0lJW3wv9s",
        "outputId": "1a63af04-48c1-43c5-d2d8-13a2e60355ad"
      },
      "execution_count": 13,
      "outputs": [
        {
          "output_type": "stream",
          "name": "stdout",
          "text": [
            "\u001b[34m\u001b[1mval: \u001b[0mdata=data.yaml, weights=['runs/train/circle_detection/weights/best.pt'], batch_size=32, imgsz=256, conf_thres=0.001, iou_thres=0.6, max_det=300, task=val, device=, workers=8, single_cls=False, augment=False, verbose=False, save_txt=False, save_hybrid=False, save_conf=False, save_json=False, project=runs/val, name=exp, exist_ok=False, half=False, dnn=False\n",
            "YOLOv5 🚀 v7.0-350-g6096750f Python-3.10.12 torch-2.3.1+cu121 CUDA:0 (Tesla T4, 15102MiB)\n",
            "\n",
            "Fusing layers... \n",
            "YOLOv5s summary: 157 layers, 7012822 parameters, 0 gradients, 15.8 GFLOPs\n",
            "\u001b[34m\u001b[1mval: \u001b[0mScanning /content/yolov5/yolo_circle_dataset/labels/val.cache... 200 images, 111 backgrounds, 0 corrupt: 100% 200/200 [00:00<?, ?it/s]\n",
            "                 Class     Images  Instances          P          R      mAP50   mAP50-95: 100% 7/7 [00:03<00:00,  1.90it/s]\n",
            "                   all        200        281      0.985      0.986      0.994       0.95\n",
            "Speed: 0.0ms pre-process, 3.2ms inference, 6.7ms NMS per image at shape (32, 3, 256, 256)\n",
            "Results saved to \u001b[1mruns/val/exp\u001b[0m\n"
          ]
        }
      ]
    },
    {
      "cell_type": "code",
      "source": [],
      "metadata": {
        "id": "usuJPYhkw6gc"
      },
      "execution_count": null,
      "outputs": []
    }
  ]
}